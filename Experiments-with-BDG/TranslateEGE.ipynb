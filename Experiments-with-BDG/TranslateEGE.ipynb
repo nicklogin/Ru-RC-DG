{
 "cells": [
  {
   "cell_type": "code",
   "execution_count": 1,
   "id": "74eb4632-def7-4649-90c1-f11323f18e43",
   "metadata": {},
   "outputs": [],
   "source": [
    "import json\n",
    "from ast import literal_eval\n",
    "from easynmt import EasyNMT\n",
    "from tqdm import tqdm_notebook"
   ]
  },
  {
   "cell_type": "code",
   "execution_count": 2,
   "id": "c88566ac-9b3b-43cc-9f4b-e00db48bbcf8",
   "metadata": {},
   "outputs": [],
   "source": [
    "with open(\"EgeEvalDataset.json\", 'r', encoding=\"utf8\") as inp:\n",
    "    dataEGE = json.load(inp)"
   ]
  },
  {
   "cell_type": "code",
   "execution_count": 3,
   "id": "348f00d1-351f-4300-81c8-079a824ac00e",
   "metadata": {},
   "outputs": [],
   "source": [
    "for index, item in enumerate(dataEGE):\n",
    "    dataEGE[index][\"distractors\"] = literal_eval(item[\"distractors\"])"
   ]
  },
  {
   "cell_type": "code",
   "execution_count": 4,
   "id": "ce511ec7-fb88-48ea-84ec-35ef2e7a9f73",
   "metadata": {},
   "outputs": [],
   "source": [
    "with open(\"EgeEvalDataset.json\", 'w', encoding=\"utf8\") as outp:\n",
    "    json.dump(dataEGE, outp, indent=2, ensure_ascii=False)"
   ]
  },
  {
   "cell_type": "code",
   "execution_count": 5,
   "id": "6215c0bb-5eb4-4560-af8d-5f84aec42c72",
   "metadata": {},
   "outputs": [],
   "source": [
    "LB = '\\n'"
   ]
  },
  {
   "cell_type": "code",
   "execution_count": 6,
   "id": "ae98c156-c97d-4524-84e4-c32646f1ce55",
   "metadata": {},
   "outputs": [],
   "source": [
    "data_ege_to_translate = [\n",
    "    f\"{item['reading_text']}{LB}{item['question']}{LB}{item['right_answer']}{LB}{LB.join([distractor for distractor in item['distractors']])}\"\n",
    "    for item in dataEGE\n",
    "]"
   ]
  },
  {
   "cell_type": "code",
   "execution_count": 8,
   "id": "b940101f-1cd0-4824-8d92-ed6816466655",
   "metadata": {},
   "outputs": [
    {
     "name": "stderr",
     "output_type": "stream",
     "text": [
      "11.9kB [00:00, 14.4MB/s]                   \n"
     ]
    }
   ],
   "source": [
    "model = EasyNMT('opus-mt')"
   ]
  },
  {
   "cell_type": "code",
   "execution_count": 10,
   "id": "b7a67a05-c2f9-4166-9482-dab67b55e016",
   "metadata": {},
   "outputs": [
    {
     "name": "stdout",
     "output_type": "stream",
     "text": [
      " On the back of our village, there was a long, boarded room. This is the first time I've heard music in my life, the violin. She was played by Vasya Poliac. What did the music tell me? Something very big. What did she complain about, who she was angry with? Worried and bitter to me. I want to cry because I feel sorry for myself, and I feel sorry for those who sleep in the graveyard! Wasa continued to play, saying: \"This music was written by a man who had been deprived of the most precious one. If a man has no mother, no father, but a homeland, he's not an orphan yet. Everything goes by: love, regret, grief, even pain from wounds — but it never goes away, and it doesn't go away. This music was written by my countryman Oginsky. He wrote at the border saying goodbye to his motherland. He sent her last hello. There has been no composer in the world for a long time, but his pain, his sorrow, love for his own land, which no one can take away, is still alive.\" \"Thank you, Uncle,\" I whispered. \"Why, boy?\" \"I'm not an orphan.\" I thanked Vasia, the world of night, the sleeping village, and the forest that sleeps behind him. I wasn't angry at those moments. The world was kind and lonely as I was. Enisey, who does not even sleep at night, a silent village behind my back, a grasshopper who last worked against the fall in a splinter pouring metal, was my homeland. It's been many years. And one day, at the end of the war, I stood by the guns in a destroyed Polish city. It smelled like smoke, dust. And suddenly, in a house across the street from me, there was a sound of an organ. That music sorted out memories. I once wanted to die of incomprehensible sadness and excitement after listening to Oginsky's story. But now the same music that I was listening to when I was a kid broke into me and buried it, especially that part of it that I used to cry from. Music, like that long night, grabbed her throat, but she didn't squeeze tears, and she didn't grow in pity. She called out, made me do something to put out these fires, to keep people from living in burning ruins, so the sky wouldn't blow up. The music had dominated a troubled city, the music that, like the breath of its land, had been stored in the heart of a man who had never seen his homeland and had longed for it all his life.* Victor Petrovich Astafiev (1924), an outstanding Russian prosaic. Key themes of creativity are military and village. Source of text: EGE 2013. Russian: training exercises / I. P. Tsybulko, S. I. Lvova - M.: Exmo, 2012. - 136 pages Option 6.\n",
      "What statement does not correspond to the text?\n",
      " Polonez made the author want to cry and be small.\n",
      " The storyteller was an orphan.\n",
      " When I was a kid, that tune caused other feelings.\n",
      " This musical work was written to say goodbye to Rodina.\n"
     ]
    }
   ],
   "source": [
    "print(model.translate(\n",
    "    data_ege_to_translate[0],\n",
    "    source_lang='ru', target_lang='en'\n",
    "))"
   ]
  },
  {
   "cell_type": "code",
   "execution_count": 13,
   "id": "10894e2d-d05d-4475-93e2-25ab8cd6c1f2",
   "metadata": {},
   "outputs": [],
   "source": [
    "translated_ege_data = []"
   ]
  },
  {
   "cell_type": "code",
   "execution_count": 15,
   "id": "a324a1bc-367f-4412-b602-86910cc53612",
   "metadata": {},
   "outputs": [
    {
     "name": "stderr",
     "output_type": "stream",
     "text": [
      "/tmp/ipykernel_13494/2438184859.py:1: TqdmDeprecationWarning: This function will be removed in tqdm==5.0.0\n",
      "Please use `tqdm.notebook.tqdm` instead of `tqdm.tqdm_notebook`\n",
      "  for item in tqdm_notebook(\n"
     ]
    },
    {
     "data": {
      "application/vnd.jupyter.widget-view+json": {
       "model_id": "bdbb7d230aa241468399e94ad00c9084",
       "version_major": 2,
       "version_minor": 0
      },
      "text/plain": [
       "  0%|          | 0/55 [00:00<?, ?it/s]"
      ]
     },
     "metadata": {},
     "output_type": "display_data"
    }
   ],
   "source": [
    "for item in tqdm_notebook(\n",
    "    data_ege_to_translate, total=len(data_ege_to_translate)\n",
    "):\n",
    "    translated_item = model.translate(\n",
    "        item, source_lang=\"ru\", target_lang=\"en\"\n",
    "    )\n",
    "    translated_ege_data.append(translated_item)"
   ]
  },
  {
   "cell_type": "code",
   "execution_count": 16,
   "id": "753ac700-e205-4076-a414-98c1e9371551",
   "metadata": {},
   "outputs": [
    {
     "data": {
      "text/plain": [
       "55"
      ]
     },
     "execution_count": 16,
     "metadata": {},
     "output_type": "execute_result"
    }
   ],
   "source": [
    "len(translated_ege_data)"
   ]
  },
  {
   "cell_type": "code",
   "execution_count": 23,
   "id": "2d4bcd20-2e4e-4fff-ade9-8666509ce71d",
   "metadata": {},
   "outputs": [],
   "source": [
    "translated_ege_data_structured = []"
   ]
  },
  {
   "cell_type": "code",
   "execution_count": 24,
   "id": "52d5851b-4684-44bd-a1c9-86d0ba1bb6e9",
   "metadata": {},
   "outputs": [],
   "source": [
    "for item in translated_ege_data:\n",
    "    item_structured = item.split('\\n')\n",
    "    text = item_structured[0]\n",
    "    question = item_structured[1]\n",
    "    right_answer = item_structured[2]\n",
    "    distractors = item_structured[3:]\n",
    "    new_item = {\n",
    "        \"reading_text\": text,\n",
    "        \"question\": question,\n",
    "        \"right_answer\": right_answer,\n",
    "        \"distractors\": distractors\n",
    "    }\n",
    "    translated_ege_data_structured.append(new_item)"
   ]
  },
  {
   "cell_type": "code",
   "execution_count": 25,
   "id": "e65e2029-3e9a-4f74-8823-0bd196dc16d4",
   "metadata": {},
   "outputs": [],
   "source": [
    "with open(\"EgeEvalDataset_translated.json\", 'w', encoding='utf8') as outp:\n",
    "    json.dump(\n",
    "        translated_ege_data_structured, outp,\n",
    "        indent=4, ensure_ascii=False\n",
    "    )"
   ]
  },
  {
   "cell_type": "code",
   "execution_count": null,
   "id": "7f83dcb2-a026-43a8-8f80-8725500f62c4",
   "metadata": {},
   "outputs": [],
   "source": []
  }
 ],
 "metadata": {
  "kernelspec": {
   "display_name": "3.8.20",
   "language": "python",
   "name": "pyenv_3.8.20"
  },
  "language_info": {
   "codemirror_mode": {
    "name": "ipython",
    "version": 3
   },
   "file_extension": ".py",
   "mimetype": "text/x-python",
   "name": "python",
   "nbconvert_exporter": "python",
   "pygments_lexer": "ipython3",
   "version": "3.8.20"
  }
 },
 "nbformat": 4,
 "nbformat_minor": 5
}
