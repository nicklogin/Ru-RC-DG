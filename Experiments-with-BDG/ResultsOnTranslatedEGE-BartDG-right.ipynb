{
 "cells": [
  {
   "cell_type": "code",
   "execution_count": 1,
   "id": "e397519d-cb58-4da7-9ecd-a01f364eb99a",
   "metadata": {},
   "outputs": [],
   "source": [
    "import json, re\n",
    "\n",
    "from typing import Any, Dict, List, Tuple\n",
    "from tqdm import tqdm\n",
    "\n",
    "import pandas as pd\n",
    "import evaluate\n",
    "\n",
    "from transformers import BartTokenizer\n",
    "\n",
    "import nlp2go"
   ]
  },
  {
   "cell_type": "code",
   "execution_count": 2,
   "id": "b26f83cf-1e17-411c-b8e6-3cb7a0ac994f",
   "metadata": {},
   "outputs": [],
   "source": [
    "with open(\"EgeEvalDataset.json\", 'r', encoding=\"utf8\") as inp:\n",
    "    ege_rus = json.load(inp)\n",
    "\n",
    "with open(\"EgeEvalDataset_translated.json\", 'r', encoding=\"utf8\") as inp:\n",
    "    ege_eng = json.load(inp)"
   ]
  },
  {
   "cell_type": "code",
   "execution_count": 4,
   "id": "cde63a20-bbf7-4113-aa26-262652487155",
   "metadata": {},
   "outputs": [
    {
     "name": "stderr",
     "output_type": "stream",
     "text": [
      "/home/user/.pyenv/versions/3.8.20/lib/python3.8/site-packages/tfkit/utility/model.py:57: FutureWarning: You are using `torch.load` with `weights_only=False` (the current default value), which uses the default pickle module implicitly. It is possible to construct malicious pickle data which will execute arbitrary code during unpickling (See https://github.com/pytorch/pytorch/blob/main/SECURITY.md#untrusted-models for more details). In a future release, the default value for `weights_only` will be flipped to `True`. This limits the functions that could be executed during unpickling. Arbitrary objects will no longer be allowed to be loaded via this mode unless they are explicitly allowlisted by the user via `torch.serialization.add_safe_globals`. We recommend you start setting `weights_only=True` for any use case where you don't have full control of the loaded file. Please open an issue on GitHub for any issues related to this experimental feature.\n",
      "  torchpack = torch.load(model_path, map_location=device)\n"
     ]
    },
    {
     "name": "stdout",
     "output_type": "stream",
     "text": [
      "===model info===\n",
      "model_config facebook/bart-base\n",
      "tags ['seq2seq_0']\n",
      "type ['seq2seq']\n",
      "maxlen 1024\n",
      "epoch 8\n",
      "===============\n",
      "loading saved model\n"
     ]
    },
    {
     "name": "stderr",
     "output_type": "stream",
     "text": [
      "/home/user/.pyenv/versions/3.8.20/lib/python3.8/site-packages/transformers/tokenization_utils_base.py:1617: FutureWarning: `clean_up_tokenization_spaces` was not set. It will be set to `True` by default. This behavior will be deprecated in transformers v4.45, and will be then set to `False` by default. For more details check this issue: https://github.com/huggingface/transformers/issues/31884\n",
      "  warnings.warn(\n"
     ]
    },
    {
     "name": "stdout",
     "output_type": "stream",
     "text": [
      "===ADD TOKEN===\n",
      "We have added 0 tokens\n",
      "===============\n",
      "Using device: cuda\n",
      "finish loading\n",
      "loaded model predict_parameter {}\n",
      "===model info===\n",
      "model_config facebook/bart-base\n",
      "tags ['seq2seq_0']\n",
      "type ['seq2seq']\n",
      "maxlen 1024\n",
      "epoch 10\n",
      "===============\n",
      "loading saved model\n",
      "===ADD TOKEN===\n",
      "We have added 0 tokens\n",
      "===============\n",
      "Using device: cuda\n",
      "finish loading\n",
      "loaded model predict_parameter {}\n",
      "===model info===\n",
      "model_config facebook/bart-base\n",
      "tags ['seq2seq_0']\n",
      "type ['seq2seq']\n",
      "maxlen 1024\n",
      "epoch 8\n",
      "===============\n",
      "loading saved model\n",
      "===ADD TOKEN===\n",
      "We have added 0 tokens\n",
      "===============\n",
      "Using device: cuda\n",
      "finish loading\n",
      "loaded model predict_parameter {}\n"
     ]
    }
   ],
   "source": [
    "bdg_model = nlp2go.Model('./BDG_v2/BDG.pt')\n",
    "bdg_pm_model = nlp2go.Model('./BDG_v2/BDG_PM.pt')\n",
    "bdg_anpm_model = nlp2go.Model('./BDG_v2/BDG_ANPM.pt')"
   ]
  },
  {
   "cell_type": "code",
   "execution_count": 3,
   "id": "1799ac56-023d-4238-a2f5-1731ae841605",
   "metadata": {},
   "outputs": [],
   "source": [
    "def create_model_input(example: Dict[str, Any], model, max_length: int=1024) -> str:\n",
    "    if example[\"question\"] == \"What statement does not correspond to the text?\":\n",
    "        question = \"Which of the following statements is NOT TRUE according to the passage?\"\n",
    "    elif example[\"question\"] == \"What statement is appropriate to the text?\":\n",
    "        question = \"Which of the following statements is TRUE according to the passage?\"\n",
    "    else:\n",
    "        print(example[\"question\"])\n",
    "        raise Exception\n",
    "\n",
    "    text_encoded = model.model.tokenizer.encode(example[\"reading_text\"])\n",
    "    question_encoded = model.model.tokenizer.encode(question)\n",
    "    ra_encoded = model.model.tokenizer.encode(example[\"right_answer\"])\n",
    "    overall_length = len(text_encoded) + len(question_encoded) + len(ra_encoded)\n",
    "\n",
    "    if overall_length > max_length:\n",
    "        diff = overall_length - max_length\n",
    "        text_encoded = text_encoded[1:-diff]\n",
    "        text = model.model.tokenizer.decode(text_encoded)\n",
    "        output = f\"{text} </s> {question} </s> {example['right_answer']}\"\n",
    "    else:\n",
    "        output = f\"{example['reading_text']} </s> {question} </s> {example['right_answer']}\"\n",
    "\n",
    "    return output"
   ]
  },
  {
   "cell_type": "code",
   "execution_count": 5,
   "id": "cc2f0271-973a-419b-a16a-f83546671e63",
   "metadata": {},
   "outputs": [],
   "source": [
    "input_ = create_model_input(ege_eng[0], bdg_model)"
   ]
  },
  {
   "cell_type": "code",
   "execution_count": 6,
   "id": "4de4e6c1-42b2-416a-9f0b-ebb972127106",
   "metadata": {},
   "outputs": [
    {
     "data": {
      "text/plain": [
       "' On the back of our village, there was a long, boarded room. This is the first time I\\'ve heard music in my life, the violin. She was played by Vasya Poliac. What did the music tell me? Something very big. What did she complain about, who she was angry with? Worried and bitter to me. I want to cry because I feel sorry for myself, and I feel sorry for those who sleep in the graveyard! Wasa continued to play, saying: \"This music was written by a man who had been deprived of the most precious one. If a man has no mother, no father, but a homeland, he\\'s not an orphan yet. Everything goes by: love, regret, grief, even pain from wounds — but it never goes away, and it doesn\\'t go away. This music was written by my countryman Oginsky. He wrote at the border saying goodbye to his motherland. He sent her last hello. There has been no composer in the world for a long time, but his pain, his sorrow, love for his own land, which no one can take away, is still alive.\" \"Thank you, Uncle,\" I whispered. \"Why, boy?\" \"I\\'m not an orphan.\" I thanked Vasia, the world of night, the sleeping village, and the forest that sleeps behind him. I wasn\\'t angry at those moments. The world was kind and lonely as I was. Enisey, who does not even sleep at night, a silent village behind my back, a grasshopper who last worked against the fall in a splinter pouring metal, was my homeland. It\\'s been many years. And one day, at the end of the war, I stood by the guns in a destroyed Polish city. It smelled like smoke, dust. And suddenly, in a house across the street from me, there was a sound of an organ. That music sorted out memories. I once wanted to die of incomprehensible sadness and excitement after listening to Oginsky\\'s story. But now the same music that I was listening to when I was a kid broke into me and buried it, especially that part of it that I used to cry from. Music, like that long night, grabbed her throat, but she didn\\'t squeeze tears, and she didn\\'t grow in pity. She called out, made me do something to put out these fires, to keep people from living in burning ruins, so the sky wouldn\\'t blow up. The music had dominated a troubled city, the music that, like the breath of its land, had been stored in the heart of a man who had never seen his homeland and had longed for it all his life.* Victor Petrovich Astafiev (1924), an outstanding Russian prosaic. Key themes of creativity are military and village. Source of text: EGE 2013. Russian: training exercises / I. P. Tsybulko, S. I. Lvova - M.: Exmo, 2012. - 136 pages Option 6. </s> Which of the following statements is NOT TRUE according to the passage? </s>  Polonez made the author want to cry and be small.'"
      ]
     },
     "execution_count": 6,
     "metadata": {},
     "output_type": "execute_result"
    }
   ],
   "source": [
    "input_"
   ]
  },
  {
   "cell_type": "code",
   "execution_count": 7,
   "id": "f96fcb1b-96c2-4e5e-9972-e808d184d304",
   "metadata": {},
   "outputs": [
    {
     "name": "stderr",
     "output_type": "stream",
     "text": [
      "100%|██████████| 55/55 [01:25<00:00,  1.55s/it]\n",
      "100%|██████████| 55/55 [01:30<00:00,  1.64s/it]\n",
      "100%|██████████| 55/55 [01:24<00:00,  1.53s/it]\n"
     ]
    }
   ],
   "source": [
    "model_outputs = {\n",
    "    \"bdg\": [], \"bdg_pm\": [], \"bdg_anpm\": []\n",
    "}\n",
    "for model_name, model in zip(\n",
    "    [\"bdg\", \"bdg_pm\", \"bdg_anpm\"], [bdg_model, bdg_pm_model, bdg_anpm_model]\n",
    "):\n",
    "    for item in tqdm(ege_eng):\n",
    "        model_outputs[model_name].append(\n",
    "            {\n",
    "                \"reading_text\": item[\"reading_text\"],\n",
    "                \"question\": item[\"question\"],\n",
    "                \"right_answer\": item[\"right_answer\"],\n",
    "                \"distractors\": item[\"distractors\"],\n",
    "                \"predicted_distractors\": model.predict(\n",
    "                    {\"input\": create_model_input(item, model)}, decodenum=3\n",
    "                )[\"result\"]\n",
    "            }\n",
    "        )"
   ]
  },
  {
   "cell_type": "code",
   "execution_count": 8,
   "id": "12baf966-56ef-4cf5-9715-171c126260e5",
   "metadata": {},
   "outputs": [
    {
     "data": {
      "text/plain": [
       "{'reading_text': ' On the back of our village, there was a long, boarded room. This is the first time I\\'ve heard music in my life, the violin. She was played by Vasya Poliac. What did the music tell me? Something very big. What did she complain about, who she was angry with? Worried and bitter to me. I want to cry because I feel sorry for myself, and I feel sorry for those who sleep in the graveyard! Wasa continued to play, saying: \"This music was written by a man who had been deprived of the most precious one. If a man has no mother, no father, but a homeland, he\\'s not an orphan yet. Everything goes by: love, regret, grief, even pain from wounds — but it never goes away, and it doesn\\'t go away. This music was written by my countryman Oginsky. He wrote at the border saying goodbye to his motherland. He sent her last hello. There has been no composer in the world for a long time, but his pain, his sorrow, love for his own land, which no one can take away, is still alive.\" \"Thank you, Uncle,\" I whispered. \"Why, boy?\" \"I\\'m not an orphan.\" I thanked Vasia, the world of night, the sleeping village, and the forest that sleeps behind him. I wasn\\'t angry at those moments. The world was kind and lonely as I was. Enisey, who does not even sleep at night, a silent village behind my back, a grasshopper who last worked against the fall in a splinter pouring metal, was my homeland. It\\'s been many years. And one day, at the end of the war, I stood by the guns in a destroyed Polish city. It smelled like smoke, dust. And suddenly, in a house across the street from me, there was a sound of an organ. That music sorted out memories. I once wanted to die of incomprehensible sadness and excitement after listening to Oginsky\\'s story. But now the same music that I was listening to when I was a kid broke into me and buried it, especially that part of it that I used to cry from. Music, like that long night, grabbed her throat, but she didn\\'t squeeze tears, and she didn\\'t grow in pity. She called out, made me do something to put out these fires, to keep people from living in burning ruins, so the sky wouldn\\'t blow up. The music had dominated a troubled city, the music that, like the breath of its land, had been stored in the heart of a man who had never seen his homeland and had longed for it all his life.* Victor Petrovich Astafiev (1924), an outstanding Russian prosaic. Key themes of creativity are military and village. Source of text: EGE 2013. Russian: training exercises / I. P. Tsybulko, S. I. Lvova - M.: Exmo, 2012. - 136 pages Option 6.',\n",
       " 'question': 'What statement does not correspond to the text?',\n",
       " 'right_answer': ' Polonez made the author want to cry and be small.',\n",
       " 'distractors': [' The storyteller was an orphan.',\n",
       "  ' When I was a kid, that tune caused other feelings.',\n",
       "  ' This musical work was written to say goodbye to Rodina.'],\n",
       " 'predicted_distractors': ['The author loved his homeland very much .',\n",
       "  'The author often played the violin in his homeland .',\n",
       "  \"The author 's countryman saved his son 's life in the war .\"]}"
      ]
     },
     "execution_count": 8,
     "metadata": {},
     "output_type": "execute_result"
    }
   ],
   "source": [
    "model_outputs[\"bdg\"][0]"
   ]
  },
  {
   "cell_type": "code",
   "execution_count": 9,
   "id": "4d7f437d-9a21-4fac-9f1c-74006f2874ea",
   "metadata": {},
   "outputs": [
    {
     "data": {
      "text/plain": [
       "{'reading_text': ' On the back of our village, there was a long, boarded room. This is the first time I\\'ve heard music in my life, the violin. She was played by Vasya Poliac. What did the music tell me? Something very big. What did she complain about, who she was angry with? Worried and bitter to me. I want to cry because I feel sorry for myself, and I feel sorry for those who sleep in the graveyard! Wasa continued to play, saying: \"This music was written by a man who had been deprived of the most precious one. If a man has no mother, no father, but a homeland, he\\'s not an orphan yet. Everything goes by: love, regret, grief, even pain from wounds — but it never goes away, and it doesn\\'t go away. This music was written by my countryman Oginsky. He wrote at the border saying goodbye to his motherland. He sent her last hello. There has been no composer in the world for a long time, but his pain, his sorrow, love for his own land, which no one can take away, is still alive.\" \"Thank you, Uncle,\" I whispered. \"Why, boy?\" \"I\\'m not an orphan.\" I thanked Vasia, the world of night, the sleeping village, and the forest that sleeps behind him. I wasn\\'t angry at those moments. The world was kind and lonely as I was. Enisey, who does not even sleep at night, a silent village behind my back, a grasshopper who last worked against the fall in a splinter pouring metal, was my homeland. It\\'s been many years. And one day, at the end of the war, I stood by the guns in a destroyed Polish city. It smelled like smoke, dust. And suddenly, in a house across the street from me, there was a sound of an organ. That music sorted out memories. I once wanted to die of incomprehensible sadness and excitement after listening to Oginsky\\'s story. But now the same music that I was listening to when I was a kid broke into me and buried it, especially that part of it that I used to cry from. Music, like that long night, grabbed her throat, but she didn\\'t squeeze tears, and she didn\\'t grow in pity. She called out, made me do something to put out these fires, to keep people from living in burning ruins, so the sky wouldn\\'t blow up. The music had dominated a troubled city, the music that, like the breath of its land, had been stored in the heart of a man who had never seen his homeland and had longed for it all his life.* Victor Petrovich Astafiev (1924), an outstanding Russian prosaic. Key themes of creativity are military and village. Source of text: EGE 2013. Russian: training exercises / I. P. Tsybulko, S. I. Lvova - M.: Exmo, 2012. - 136 pages Option 6.',\n",
       " 'question': 'What statement does not correspond to the text?',\n",
       " 'right_answer': ' Polonez made the author want to cry and be small.',\n",
       " 'distractors': [' The storyteller was an orphan.',\n",
       "  ' When I was a kid, that tune caused other feelings.',\n",
       "  ' This musical work was written to say goodbye to Rodina.'],\n",
       " 'predicted_distractors': ['The music was written by an orphan in his hometown .',\n",
       "  'The music played in the town was a sad one .',\n",
       "  \"The music of atmosphere was written in the orphan 's hometown . ' A\"]}"
      ]
     },
     "execution_count": 9,
     "metadata": {},
     "output_type": "execute_result"
    }
   ],
   "source": [
    "model_outputs[\"bdg_pm\"][0]"
   ]
  },
  {
   "cell_type": "code",
   "execution_count": 10,
   "id": "500e7e8c-c675-46f1-86eb-03eaa2501795",
   "metadata": {},
   "outputs": [
    {
     "data": {
      "text/plain": [
       "{'reading_text': ' On the back of our village, there was a long, boarded room. This is the first time I\\'ve heard music in my life, the violin. She was played by Vasya Poliac. What did the music tell me? Something very big. What did she complain about, who she was angry with? Worried and bitter to me. I want to cry because I feel sorry for myself, and I feel sorry for those who sleep in the graveyard! Wasa continued to play, saying: \"This music was written by a man who had been deprived of the most precious one. If a man has no mother, no father, but a homeland, he\\'s not an orphan yet. Everything goes by: love, regret, grief, even pain from wounds — but it never goes away, and it doesn\\'t go away. This music was written by my countryman Oginsky. He wrote at the border saying goodbye to his motherland. He sent her last hello. There has been no composer in the world for a long time, but his pain, his sorrow, love for his own land, which no one can take away, is still alive.\" \"Thank you, Uncle,\" I whispered. \"Why, boy?\" \"I\\'m not an orphan.\" I thanked Vasia, the world of night, the sleeping village, and the forest that sleeps behind him. I wasn\\'t angry at those moments. The world was kind and lonely as I was. Enisey, who does not even sleep at night, a silent village behind my back, a grasshopper who last worked against the fall in a splinter pouring metal, was my homeland. It\\'s been many years. And one day, at the end of the war, I stood by the guns in a destroyed Polish city. It smelled like smoke, dust. And suddenly, in a house across the street from me, there was a sound of an organ. That music sorted out memories. I once wanted to die of incomprehensible sadness and excitement after listening to Oginsky\\'s story. But now the same music that I was listening to when I was a kid broke into me and buried it, especially that part of it that I used to cry from. Music, like that long night, grabbed her throat, but she didn\\'t squeeze tears, and she didn\\'t grow in pity. She called out, made me do something to put out these fires, to keep people from living in burning ruins, so the sky wouldn\\'t blow up. The music had dominated a troubled city, the music that, like the breath of its land, had been stored in the heart of a man who had never seen his homeland and had longed for it all his life.* Victor Petrovich Astafiev (1924), an outstanding Russian prosaic. Key themes of creativity are military and village. Source of text: EGE 2013. Russian: training exercises / I. P. Tsybulko, S. I. Lvova - M.: Exmo, 2012. - 136 pages Option 6.',\n",
       " 'question': 'What statement does not correspond to the text?',\n",
       " 'right_answer': ' Polonez made the author want to cry and be small.',\n",
       " 'distractors': [' The storyteller was an orphan.',\n",
       "  ' When I was a kid, that tune caused other feelings.',\n",
       "  ' This musical work was written to say goodbye to Rodina.'],\n",
       " 'predicted_distractors': [\"Edisey was one of the writer 's favorite music writer .\",\n",
       "  'The author was very angry when listening to this music .',\n",
       "  'The writer was angry when she heard the music played by oneself .']}"
      ]
     },
     "execution_count": 10,
     "metadata": {},
     "output_type": "execute_result"
    }
   ],
   "source": [
    "model_outputs[\"bdg_anpm\"][0]"
   ]
  },
  {
   "cell_type": "code",
   "execution_count": 11,
   "id": "d03e423f-c9f5-4d74-add1-193dfa0c5000",
   "metadata": {},
   "outputs": [],
   "source": [
    "with open(\"model_outputs_bart.json\", 'w', encoding=\"utf8\") as outp:\n",
    "    json.dump(model_outputs, outp, indent=4, ensure_ascii=False)"
   ]
  },
  {
   "cell_type": "code",
   "execution_count": null,
   "id": "cbee882e-4d75-4d60-a9a1-8fbe78548e29",
   "metadata": {},
   "outputs": [],
   "source": []
  }
 ],
 "metadata": {
  "kernelspec": {
   "display_name": "3.8.20",
   "language": "python",
   "name": "pyenv_3.8.20"
  },
  "language_info": {
   "codemirror_mode": {
    "name": "ipython",
    "version": 3
   },
   "file_extension": ".py",
   "mimetype": "text/x-python",
   "name": "python",
   "nbconvert_exporter": "python",
   "pygments_lexer": "ipython3",
   "version": "3.8.20"
  }
 },
 "nbformat": 4,
 "nbformat_minor": 5
}
