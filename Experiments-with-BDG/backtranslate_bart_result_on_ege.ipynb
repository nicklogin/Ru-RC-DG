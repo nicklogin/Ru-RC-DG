{
 "cells": [
  {
   "cell_type": "code",
   "execution_count": 10,
   "id": "e9fc5156-876d-47d1-ad02-739b9acbd1ee",
   "metadata": {},
   "outputs": [],
   "source": [
    "from easynmt import EasyNMT\n",
    "from tqdm import tqdm"
   ]
  },
  {
   "cell_type": "code",
   "execution_count": 21,
   "id": "2a69993b-fd8f-49a9-909b-8386dea05381",
   "metadata": {},
   "outputs": [],
   "source": [
    "import os, json"
   ]
  },
  {
   "cell_type": "code",
   "execution_count": 3,
   "id": "74fb57d3-60cd-4ac5-9e20-3f171a878ff1",
   "metadata": {},
   "outputs": [],
   "source": [
    "with open(\"model_outputs_bart.json\", 'r', encoding=\"utf8\") as inp:\n",
    "    data = json.load(inp)"
   ]
  },
  {
   "cell_type": "code",
   "execution_count": 5,
   "id": "52d50aa8-e2ef-4c6c-a61b-6d3e2b53da81",
   "metadata": {},
   "outputs": [],
   "source": [
    "model = EasyNMT(\"opus-mt\")"
   ]
  },
  {
   "cell_type": "code",
   "execution_count": 9,
   "id": "d5a9f419-8ea3-4b1e-89fc-f7d9bcc5b060",
   "metadata": {},
   "outputs": [],
   "source": [
    "LB = '\\n'\n",
    "data_to_translate_bdg = [\n",
    "    f\"{item['reading_text']}{LB}{item['question']}{LB}{item['right_answer']}{LB}{LB.join([distractor for distractor in item['predicted_distractors']])}\"\n",
    "    for item in data[\"bdg\"]\n",
    "]\n",
    "data_to_translate_bdg_pm = [\n",
    "    f\"{item['reading_text']}{LB}{item['question']}{LB}{item['right_answer']}{LB}{LB.join([distractor for distractor in item['predicted_distractors']])}\"\n",
    "    for item in data[\"bdg_pm\"]\n",
    "]\n",
    "data_to_translate_bdg_anpm = [\n",
    "    f\"{item['reading_text']}{LB}{item['question']}{LB}{item['right_answer']}{LB}{LB.join([distractor for distractor in item['predicted_distractors']])}\"\n",
    "    for item in data[\"bdg_anpm\"]\n",
    "]"
   ]
  },
  {
   "cell_type": "code",
   "execution_count": 11,
   "id": "d61ffaeb-5b28-45f7-8a0a-e31dafd64563",
   "metadata": {},
   "outputs": [
    {
     "name": "stderr",
     "output_type": "stream",
     "text": [
      "  0%|          | 0/55 [00:00<?, ?it/s]"
     ]
    },
    {
     "data": {
      "application/vnd.jupyter.widget-view+json": {
       "model_id": "940d1bff71cb4824a68d389f2167f336",
       "version_major": 2,
       "version_minor": 0
      },
      "text/plain": [
       "tokenizer_config.json:   0%|          | 0.00/42.0 [00:00<?, ?B/s]"
      ]
     },
     "metadata": {},
     "output_type": "display_data"
    },
    {
     "data": {
      "application/vnd.jupyter.widget-view+json": {
       "model_id": "3372f443b28746a9990e63373e8a6fca",
       "version_major": 2,
       "version_minor": 0
      },
      "text/plain": [
       "source.spm:   0%|          | 0.00/803k [00:00<?, ?B/s]"
      ]
     },
     "metadata": {},
     "output_type": "display_data"
    },
    {
     "data": {
      "application/vnd.jupyter.widget-view+json": {
       "model_id": "3e5839325e7c4ea1b6734941e19f180d",
       "version_major": 2,
       "version_minor": 0
      },
      "text/plain": [
       "target.spm:   0%|          | 0.00/1.08M [00:00<?, ?B/s]"
      ]
     },
     "metadata": {},
     "output_type": "display_data"
    },
    {
     "data": {
      "application/vnd.jupyter.widget-view+json": {
       "model_id": "8f6dad280595409dbf2252209ce46e57",
       "version_major": 2,
       "version_minor": 0
      },
      "text/plain": [
       "vocab.json:   0%|          | 0.00/2.60M [00:00<?, ?B/s]"
      ]
     },
     "metadata": {},
     "output_type": "display_data"
    },
    {
     "data": {
      "application/vnd.jupyter.widget-view+json": {
       "model_id": "3efe9bb0d4254138b0a9177653fbdb47",
       "version_major": 2,
       "version_minor": 0
      },
      "text/plain": [
       "config.json:   0%|          | 0.00/1.38k [00:00<?, ?B/s]"
      ]
     },
     "metadata": {},
     "output_type": "display_data"
    },
    {
     "name": "stderr",
     "output_type": "stream",
     "text": [
      "/home/user/.pyenv/versions/3.8.20/lib/python3.8/site-packages/transformers/tokenization_utils_base.py:1617: FutureWarning: `clean_up_tokenization_spaces` was not set. It will be set to `True` by default. This behavior will be deprecated in transformers v4.45, and will be then set to `False` by default. For more details check this issue: https://github.com/huggingface/transformers/issues/31884\n",
      "  warnings.warn(\n"
     ]
    },
    {
     "data": {
      "application/vnd.jupyter.widget-view+json": {
       "model_id": "470b022d1f9b4477b19ef76bd13e58b4",
       "version_major": 2,
       "version_minor": 0
      },
      "text/plain": [
       "pytorch_model.bin:   0%|          | 0.00/307M [00:00<?, ?B/s]"
      ]
     },
     "metadata": {},
     "output_type": "display_data"
    },
    {
     "data": {
      "application/vnd.jupyter.widget-view+json": {
       "model_id": "d2e626cd9088470e81ae21f88e2cbdbb",
       "version_major": 2,
       "version_minor": 0
      },
      "text/plain": [
       "generation_config.json:   0%|          | 0.00/293 [00:00<?, ?B/s]"
      ]
     },
     "metadata": {},
     "output_type": "display_data"
    },
    {
     "name": "stderr",
     "output_type": "stream",
     "text": [
      "100%|██████████| 55/55 [02:57<00:00,  3.23s/it]\n",
      "100%|██████████| 55/55 [02:32<00:00,  2.77s/it]\n",
      "100%|██████████| 55/55 [02:32<00:00,  2.77s/it]\n"
     ]
    }
   ],
   "source": [
    "translated_bdg = []\n",
    "for item in tqdm(data_to_translate_bdg):\n",
    "    translated_item = model.translate(\n",
    "        item, source_lang=\"en\", target_lang=\"ru\"\n",
    "    )\n",
    "    translated_bdg.append(translated_item)\n",
    "\n",
    "translated_bdg_pm = []\n",
    "for item in tqdm(data_to_translate_bdg_pm):\n",
    "    translated_item = model.translate(\n",
    "        item, source_lang=\"en\", target_lang=\"ru\"\n",
    "    )\n",
    "    translated_bdg_pm.append(translated_item)\n",
    "\n",
    "translated_bdg_anpm = []\n",
    "for item in tqdm(data_to_translate_bdg_anpm):\n",
    "    translated_item = model.translate(\n",
    "        item, source_lang=\"en\", target_lang=\"ru\"\n",
    "    )\n",
    "    translated_bdg_anpm.append(translated_item)"
   ]
  },
  {
   "cell_type": "code",
   "execution_count": 13,
   "id": "5d43b328-8493-485b-9b2e-921f0b5c32b2",
   "metadata": {},
   "outputs": [
    {
     "name": "stdout",
     "output_type": "stream",
     "text": [
      " На задней части нашей деревни была длинная, заброшенная комната. Впервые в жизни я слышу музыку, скрипку. Она была сыграна Васией Поляком. Что мне рассказала музыка? Что-то очень большое. На кого она жаловалась, на кого злилась? Волнуясь и горькая для меня. Я хочу плакать, потому что мне жаль себя, и мне жаль тех, кто спит на кладбище! Ваза продолжала играть, сказав: « Эта музыка была написана человеком, который был лишен самого дорогого. Если у мужчины нет матери, отца, но родины, он еще не сирота. Все проходит: любовь, сожаление, горе, даже боль от ран, но она никогда не проходит, и она не уходит. Эта музыка была написана моим соотечественником Огинским. Он написал на границе, попрощавшись со своей родиной. Он послал ей последний привет. На протяжении долгого времени в мире не было композитора, но его боль, его печаль, любовь к своей земле, которую никто не может забрать, все еще живы\". \"Спасибо, дядя\", я прошептал. \"Почему, мальчик?\" \"Я не сирота\". Я поблагодарил Васию, мир ночи, спящую деревню и лес, который спит за ним. Я не злилась в такие моменты. Мир был добрым и одиноким, как и я. Энисей, который даже не спит по ночам, тихая деревня за моей спиной, кузнечик, который в последний раз работал против падения в занозой металла, была моей родиной. Прошло много лет. И однажды, в конце войны, я стоял рядом с оружием в разрушенном польском городе. Пахло дымом, пылью. И вдруг, в доме напротив меня, был звук органа. Эта музыка разобрала воспоминания. Однажды я хотел умереть от необъяснимой печали и волнения после того, как услышал историю Огинского. Но теперь та же музыка, которую я слушал, когда был ребенком, вломилась в меня и закопала, особенно ту часть, от которой я плакала. Музыка, как та долгая ночь, схватила ее за горло, но она не сжимала слезы, и она не росла в жалости. Она позвонила, заставила меня что-то сделать, чтобы потушить эти пожары, чтобы люди не жили в горящих руинах, чтобы небо не взорвалось. Музыка доминировала в неспокойном городе, музыке, которая, подобно дыханию его земли, хранилась в сердце человека, который никогда не видел своей родины и мечтал о ней всю свою жизнь.Виктор Петрович Астафиев (1924) — выдающийся российский прозаик. Ключевыми темами творчества являются военные и деревенские. Источник текста: EGE 2013. Русский язык: тренировочные занятия/И.П. Цибулко, С.И. Львова - М.: Эксмо, 2012 год. - 136 страниц Вариант 6.\n",
      "Какое заявление не соответствует тексту?\n",
      " Полонез заставил автора плакать и быть маленьким.\n",
      "Автор очень любил свою родину.\n",
      "Автор часто играл на скрипке на своей родине.\n",
      "Соотечественник автора спас жизнь своему сыну во время войны.\n"
     ]
    }
   ],
   "source": [
    "print(translated_bdg[0])"
   ]
  },
  {
   "cell_type": "code",
   "execution_count": 14,
   "id": "3a26ee19-daa2-446f-b2c4-09d7ed7feeaa",
   "metadata": {},
   "outputs": [
    {
     "name": "stdout",
     "output_type": "stream",
     "text": [
      " На задней части нашей деревни была длинная, заброшенная комната. Впервые в жизни я слышу музыку, скрипку. Она была сыграна Васией Поляком. Что мне рассказала музыка? Что-то очень большое. На кого она жаловалась, на кого злилась? Волнуясь и горькая для меня. Я хочу плакать, потому что мне жаль себя, и мне жаль тех, кто спит на кладбище! Ваза продолжала играть, сказав: « Эта музыка была написана человеком, который был лишен самого дорогого. Если у мужчины нет матери, отца, но родины, он еще не сирота. Все проходит: любовь, сожаление, горе, даже боль от ран, но она никогда не проходит, и она не уходит. Эта музыка была написана моим соотечественником Огинским. Он написал на границе, попрощавшись со своей родиной. Он послал ей последний привет. На протяжении долгого времени в мире не было композитора, но его боль, его печаль, любовь к своей земле, которую никто не может забрать, все еще живы\". \"Спасибо, дядя\", я прошептал. \"Почему, мальчик?\" \"Я не сирота\". Я поблагодарил Васию, мир ночи, спящую деревню и лес, который спит за ним. Я не злилась в такие моменты. Мир был добрым и одиноким, как и я. Энисей, который даже не спит по ночам, тихая деревня за моей спиной, кузнечик, который в последний раз работал против падения в занозой металла, была моей родиной. Прошло много лет. И однажды, в конце войны, я стоял рядом с оружием в разрушенном польском городе. Пахло дымом, пылью. И вдруг, в доме напротив меня, был звук органа. Эта музыка разобрала воспоминания. Однажды я хотел умереть от необъяснимой печали и волнения после того, как услышал историю Огинского. Но теперь та же музыка, которую я слушал, когда был ребенком, вломилась в меня и закопала, особенно ту часть, от которой я плакала. Музыка, как та долгая ночь, схватила ее за горло, но она не сжимала слезы, и она не росла в жалости. Она позвонила, заставила меня что-то сделать, чтобы потушить эти пожары, чтобы люди не жили в горящих руинах, чтобы небо не взорвалось. Музыка доминировала в неспокойном городе, музыке, которая, подобно дыханию его земли, хранилась в сердце человека, который никогда не видел своей родины и мечтал о ней всю свою жизнь.Виктор Петрович Астафиев (1924) — выдающийся российский прозаик. Ключевыми темами творчества являются военные и деревенские. Источник текста: EGE 2013. Русский язык: тренировочные занятия/И.П. Цибулко, С.И. Львова - М.: Эксмо, 2012 год. - 136 страниц Вариант 6.\n",
      "Какое заявление не соответствует тексту?\n",
      " Полонез заставил автора плакать и быть маленьким.\n",
      "Музыка была написана сиротой в его родном городе.\n",
      "Музыка, сыгранная в городе, была грустной.\n",
      "Музыка атмосферы была написана в родном городе сироты ». A\n"
     ]
    }
   ],
   "source": [
    "print(translated_bdg_pm[0])"
   ]
  },
  {
   "cell_type": "code",
   "execution_count": 15,
   "id": "1c966b03-2cd6-488c-a390-0e62b52c4896",
   "metadata": {},
   "outputs": [
    {
     "name": "stdout",
     "output_type": "stream",
     "text": [
      " На задней части нашей деревни была длинная, заброшенная комната. Впервые в жизни я слышу музыку, скрипку. Она была сыграна Васией Поляком. Что мне рассказала музыка? Что-то очень большое. На кого она жаловалась, на кого злилась? Волнуясь и горькая для меня. Я хочу плакать, потому что мне жаль себя, и мне жаль тех, кто спит на кладбище! Ваза продолжала играть, сказав: « Эта музыка была написана человеком, который был лишен самого дорогого. Если у мужчины нет матери, отца, но родины, он еще не сирота. Все проходит: любовь, сожаление, горе, даже боль от ран, но она никогда не проходит, и она не уходит. Эта музыка была написана моим соотечественником Огинским. Он написал на границе, попрощавшись со своей родиной. Он послал ей последний привет. На протяжении долгого времени в мире не было композитора, но его боль, его печаль, любовь к своей земле, которую никто не может забрать, все еще живы\". \"Спасибо, дядя\", я прошептал. \"Почему, мальчик?\" \"Я не сирота\". Я поблагодарил Васию, мир ночи, спящую деревню и лес, который спит за ним. Я не злилась в такие моменты. Мир был добрым и одиноким, как и я. Энисей, который даже не спит по ночам, тихая деревня за моей спиной, кузнечик, который в последний раз работал против падения в занозой металла, была моей родиной. Прошло много лет. И однажды, в конце войны, я стоял рядом с оружием в разрушенном польском городе. Пахло дымом, пылью. И вдруг, в доме напротив меня, был звук органа. Эта музыка разобрала воспоминания. Однажды я хотел умереть от необъяснимой печали и волнения после того, как услышал историю Огинского. Но теперь та же музыка, которую я слушал, когда был ребенком, вломилась в меня и закопала, особенно ту часть, от которой я плакала. Музыка, как та долгая ночь, схватила ее за горло, но она не сжимала слезы, и она не росла в жалости. Она позвонила, заставила меня что-то сделать, чтобы потушить эти пожары, чтобы люди не жили в горящих руинах, чтобы небо не взорвалось. Музыка доминировала в неспокойном городе, музыке, которая, подобно дыханию его земли, хранилась в сердце человека, который никогда не видел своей родины и мечтал о ней всю свою жизнь.Виктор Петрович Астафиев (1924) — выдающийся российский прозаик. Ключевыми темами творчества являются военные и деревенские. Источник текста: EGE 2013. Русский язык: тренировочные занятия/И.П. Цибулко, С.И. Львова - М.: Эксмо, 2012 год. - 136 страниц Вариант 6.\n",
      "Какое заявление не соответствует тексту?\n",
      " Полонез заставил автора плакать и быть маленьким.\n",
      "Эдиси была одним из любимых авторов музыки.\n",
      "Автор был очень зол, когда слушал эту музыку.\n",
      "Писательница разозлилась, когда услышала музыку, которую играла она сама.\n"
     ]
    }
   ],
   "source": [
    "print(translated_bdg_anpm[0])"
   ]
  },
  {
   "cell_type": "code",
   "execution_count": 16,
   "id": "e9cc8418-1858-4fca-8cc2-e3c96f0e137f",
   "metadata": {},
   "outputs": [],
   "source": [
    "translated_bdg_structured = []\n",
    "\n",
    "for item in translated_bdg:\n",
    "    item_structured = item.split('\\n')\n",
    "    text = item_structured[0]\n",
    "    question = item_structured[1]\n",
    "    right_answer = item_structured[2]\n",
    "    distractors = item_structured[3:]\n",
    "    new_item = {\n",
    "        \"reading_text\": text,\n",
    "        \"question\": question,\n",
    "        \"right_answer\": right_answer,\n",
    "        \"predicted_distractors\": distractors\n",
    "    }\n",
    "    translated_bdg_structured.append(new_item)"
   ]
  },
  {
   "cell_type": "code",
   "execution_count": 18,
   "id": "3d7e67a9-5f52-4c80-a1e9-509d16d1ffe5",
   "metadata": {},
   "outputs": [],
   "source": [
    "translated_bdgpm_structured = []\n",
    "\n",
    "for item in translated_bdg_pm:\n",
    "    item_structured = item.split('\\n')\n",
    "    text = item_structured[0]\n",
    "    question = item_structured[1]\n",
    "    right_answer = item_structured[2]\n",
    "    distractors = item_structured[3:]\n",
    "    new_item = {\n",
    "        \"reading_text\": text,\n",
    "        \"question\": question,\n",
    "        \"right_answer\": right_answer,\n",
    "        \"predicted_distractors\": distractors\n",
    "    }\n",
    "    translated_bdgpm_structured.append(new_item)"
   ]
  },
  {
   "cell_type": "code",
   "execution_count": 20,
   "id": "e60ff823-03e3-4fd0-ac3d-d08a4f8fd8f0",
   "metadata": {},
   "outputs": [],
   "source": [
    "translated_bdganpm_structured = []\n",
    "\n",
    "for item in translated_bdg_anpm:\n",
    "    item_structured = item.split('\\n')\n",
    "    text = item_structured[0]\n",
    "    question = item_structured[1]\n",
    "    right_answer = item_structured[2]\n",
    "    distractors = item_structured[3:]\n",
    "    new_item = {\n",
    "        \"reading_text\": text,\n",
    "        \"question\": question,\n",
    "        \"right_answer\": right_answer,\n",
    "        \"predicted_distractors\": distractors\n",
    "    }\n",
    "    translated_bdganpm_structured.append(new_item)"
   ]
  },
  {
   "cell_type": "code",
   "execution_count": 22,
   "id": "3e9438dc-862b-4762-b8e4-2594e7fd62d9",
   "metadata": {},
   "outputs": [],
   "source": [
    "os.mkdir(\"bartdg_output_ege_translated\")"
   ]
  },
  {
   "cell_type": "code",
   "execution_count": 23,
   "id": "2c80dda1-67e3-45c1-ac55-ad83ac64e006",
   "metadata": {},
   "outputs": [],
   "source": [
    "with open(\"bartdg_output_ege_translated/bdg.json\", 'w', encoding=\"utf8\") as outp:\n",
    "    json.dump(translated_bdg_structured, outp, indent=2, ensure_ascii=False)"
   ]
  },
  {
   "cell_type": "code",
   "execution_count": 24,
   "id": "9fb9456d-e3f4-422b-8b3b-c401bcab0d5e",
   "metadata": {},
   "outputs": [],
   "source": [
    "with open(\"bartdg_output_ege_translated/bdg_pm.json\", 'w', encoding=\"utf8\") as outp:\n",
    "    json.dump(translated_bdgpm_structured, outp, indent=2, ensure_ascii=False)"
   ]
  },
  {
   "cell_type": "code",
   "execution_count": 26,
   "id": "aeea10e8-3e03-4f54-8459-237b4283d3a9",
   "metadata": {},
   "outputs": [],
   "source": [
    "with open(\"bartdg_output_ege_translated/bdg_anpm.json\", 'w', encoding=\"utf8\") as outp:\n",
    "    json.dump(translated_bdganpm_structured, outp, indent=2, ensure_ascii=False)"
   ]
  },
  {
   "cell_type": "code",
   "execution_count": null,
   "id": "525046ea-27e6-4c6b-b2a0-c96e000f3036",
   "metadata": {},
   "outputs": [],
   "source": []
  }
 ],
 "metadata": {
  "kernelspec": {
   "display_name": "3.8.20",
   "language": "python",
   "name": "pyenv_3.8.20"
  },
  "language_info": {
   "codemirror_mode": {
    "name": "ipython",
    "version": 3
   },
   "file_extension": ".py",
   "mimetype": "text/x-python",
   "name": "python",
   "nbconvert_exporter": "python",
   "pygments_lexer": "ipython3",
   "version": "3.8.20"
  }
 },
 "nbformat": 4,
 "nbformat_minor": 5
}
